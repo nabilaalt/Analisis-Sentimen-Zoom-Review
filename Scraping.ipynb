{
  "nbformat": 4,
  "nbformat_minor": 0,
  "metadata": {
    "colab": {
      "provenance": []
    },
    "kernelspec": {
      "name": "python3",
      "display_name": "Python 3"
    },
    "language_info": {
      "name": "python"
    }
  },
  "cells": [
    {
      "cell_type": "code",
      "execution_count": null,
      "metadata": {
        "colab": {
          "base_uri": "https://localhost:8080/"
        },
        "id": "3RyBT_okg-JB",
        "outputId": "490c56e4-33c0-4735-b375-5e5d9d44b850"
      },
      "outputs": [
        {
          "output_type": "stream",
          "name": "stdout",
          "text": [
            "Collecting google-play-scraper\n",
            "  Downloading google_play_scraper-1.2.7-py3-none-any.whl.metadata (50 kB)\n",
            "\u001b[?25l     \u001b[90m━━━━━━━━━━━━━━━━━━━━━━━━━━━━━━━━━━━━━━━━\u001b[0m \u001b[32m0.0/50.2 kB\u001b[0m \u001b[31m?\u001b[0m eta \u001b[36m-:--:--\u001b[0m\r\u001b[2K     \u001b[90m━━━━━━━━━━━━━━━━━━━━━━━━━━━━━━━━━━━━━━━━\u001b[0m \u001b[32m50.2/50.2 kB\u001b[0m \u001b[31m2.6 MB/s\u001b[0m eta \u001b[36m0:00:00\u001b[0m\n",
            "\u001b[?25hDownloading google_play_scraper-1.2.7-py3-none-any.whl (28 kB)\n",
            "Installing collected packages: google-play-scraper\n",
            "Successfully installed google-play-scraper-1.2.7\n"
          ]
        }
      ],
      "source": [
        "!pip install google-play-scraper"
      ]
    },
    {
      "cell_type": "markdown",
      "source": [
        "Mengimport Library"
      ],
      "metadata": {
        "id": "qajwDYB1F4pD"
      }
    },
    {
      "cell_type": "code",
      "source": [
        "import csv\n",
        "from google_play_scraper import reviews_all, Sort\n",
        "import pandas as pd"
      ],
      "metadata": {
        "id": "YzQc7QuzhTs1"
      },
      "execution_count": null,
      "outputs": []
    },
    {
      "cell_type": "markdown",
      "source": [
        "Source Aplikasi Zoom"
      ],
      "metadata": {
        "id": "MYHkeoW7HnIh"
      }
    },
    {
      "cell_type": "code",
      "source": [
        "app_id = 'us.zoom.videomeetings'"
      ],
      "metadata": {
        "id": "lgT0E2qgj6Rq"
      },
      "execution_count": null,
      "outputs": []
    },
    {
      "cell_type": "markdown",
      "source": [
        "Mengambil hasil review"
      ],
      "metadata": {
        "id": "Bi5gHRC_G_gv"
      }
    },
    {
      "cell_type": "code",
      "source": [
        "scrapreview = reviews_all(\n",
        "    app_id,\n",
        "    lang='en',\n",
        "    country='us',\n",
        "    sort=Sort.NEWEST\n",
        ")"
      ],
      "metadata": {
        "id": "57__KEkXkBFp"
      },
      "execution_count": 4,
      "outputs": []
    },
    {
      "cell_type": "markdown",
      "source": [
        "Menyimpan hasil review"
      ],
      "metadata": {
        "id": "4MVfWwvcHbG1"
      }
    },
    {
      "cell_type": "code",
      "source": [
        "with open('review_zoom.csv', mode='w', newline='', encoding='utf-8') as file:\n",
        "    writer = csv.writer(file)\n",
        "    writer.writerow(['Review', 'Rating'])\n",
        "    for review in scrapreview:\n",
        "        writer.writerow([review['content'], review['score']])\n",
        "\n",
        "print(f\"Total review yang disimpan: {len(scrapreview)}\")\n",
        "df = pd.read_csv('review_zoom.csv')"
      ],
      "metadata": {
        "id": "ysA1-0E_xGDO",
        "colab": {
          "base_uri": "https://localhost:8080/"
        },
        "outputId": "1c5c106f-ff3e-4fb6-c036-9c97ec36fd89"
      },
      "execution_count": 5,
      "outputs": [
        {
          "output_type": "stream",
          "name": "stdout",
          "text": [
            "Total review yang disimpan: 797466\n"
          ]
        }
      ]
    }
  ]
}